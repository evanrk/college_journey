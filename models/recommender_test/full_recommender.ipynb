{
 "cells": [
  {
   "cell_type": "code",
   "execution_count": 6,
   "metadata": {},
   "outputs": [],
   "source": [
    "# install dependencies\n",
    "import sqlite3\n",
    "import pandas as pd\n",
    "import numpy as np\n",
    "import tensorflow as tf\n",
    "import tensorflow_hub as hub"
   ]
  },
  {
   "cell_type": "code",
   "execution_count": 7,
   "metadata": {},
   "outputs": [],
   "source": [
    "# connect to database\n",
    "connection = sqlite3.connect(\"../../data/colleges.sqlite\")\n",
    "colleges_hd2021 = pd.read_sql_query(\"SELECT * FROM hd2021_summary\", connection)"
   ]
  },
  {
   "cell_type": "code",
   "execution_count": 8,
   "metadata": {},
   "outputs": [],
   "source": [
    "# separate strings and numbers\n",
    "is_num = [dtype == np.int64 or dtype == np.float64 for dtype in colleges_hd2021.dtypes]\n",
    "is_string = [dtype != np.int64 or dtype != np.float64 for dtype in colleges_hd2021.dtypes]\n",
    "\n",
    "number_colleges_hd2021 = colleges_hd2021.loc[:, is_num]\n",
    "string_colleges_hd2021 = colleges_hd2021.loc[:, is_string]"
   ]
  },
  {
   "cell_type": "code",
   "execution_count": 9,
   "metadata": {},
   "outputs": [
    {
     "name": "stdout",
     "output_type": "stream",
     "text": [
      "use https://tfhub.dev/google/universal-sentence-encoder/4 is loaded\n"
     ]
    }
   ],
   "source": [
    "# load the model\n",
    "USE_URL = \"https://tfhub.dev/google/universal-sentence-encoder/4\"\n",
    "use = hub.load(USE_URL)\n",
    "print(f\"use {USE_URL} is loaded\")"
   ]
  },
  {
   "cell_type": "code",
   "execution_count": 83,
   "metadata": {},
   "outputs": [],
   "source": [
    "def find_embeddings_closeness(column):\n",
    "    unique_items = list(set(column))\n",
    "    embedded_items = np.array(use(unique_items)).tolist()\n",
    "\n",
    "    reverse_lookup = dict(zip(unique_items, embedded_items))\n",
    "\n",
    "    全体のcloseness = {}\n",
    "    for item, embedding in reverse_lookup.items():\n",
    "        closeness = {}\n",
    "        for other_item, other_embedding in reverse_lookup.items():\n",
    "            # the closeness in relation to the other categories\n",
    "            closeness[np.inner(embedding, other_embedding)] = other_item\n",
    "\n",
    "        全体のcloseness[item] = closeness\n",
    "    \n",
    "    return 全体のcloseness\n",
    "\n",
    "\n",
    "def find_closeness(table_columns: dict):\n",
    "    for table_name, column_names in table_columns.items():\n",
    "        table_df = pd.read_sql_query(f\"SELECT * FROM {table_name}\", connection)\n",
    "\n",
    "        for column_name in column_names:\n",
    "            column_with_unitid = table_df[[\"UNITID\", column_name]].dropna() # this is for joining the column back into the database\n",
    "            column_closeness_embeddings = find_embeddings_closeness(list(column_with_unitid[column_name]))\n",
    "\n",
    "            column_with_unitid.replace({\"Largest_Program\": column_closeness_embeddings}, inplace=True)\n",
    "\n",
    "    return column_with_unitid #ONLY WORKS FOR ONE FIX FIX FIX FIX\n",
    "            \n",
    "            \n",
    "            \n"
   ]
  },
  {
   "cell_type": "code",
   "execution_count": 85,
   "metadata": {},
   "outputs": [
    {
     "name": "stdout",
     "output_type": "stream",
     "text": [
      "      UNITID                                    Largest_Program\n",
      "0     100654  {0.15073927796282055: 'Building/Property Maint...\n",
      "1     100663  {0.20456809899343226: 'Building/Property Maint...\n",
      "2     100690  {0.2406472771372165: 'Building/Property Mainte...\n",
      "3     100706  {0.20456809899343226: 'Building/Property Maint...\n",
      "4     100724  {0.045443261254886645: 'Building/Property Main...\n",
      "...      ...                                                ...\n",
      "6283  497286  {0.21553619971384613: 'Building/Property Maint...\n",
      "6284  497301  {0.20092534377193685: 'Building/Property Maint...\n",
      "6285  497310  {0.20092534377193685: 'Building/Property Maint...\n",
      "6286  497329  {0.24479444479256723: 'Building/Property Maint...\n",
      "6287  497338  {0.1863136848206276: 'Building/Property Mainte...\n",
      "\n",
      "[6089 rows x 2 columns]\n"
     ]
    }
   ],
   "source": [
    "largest_program_closeness_df = find_closeness({\"hd2021_summary\": [\"Largest_Program\"]})\n",
    "print(largest_program_closeness_df)"
   ]
  },
  {
   "cell_type": "code",
   "execution_count": 35,
   "metadata": {},
   "outputs": [
    {
     "name": "stdout",
     "output_type": "stream",
     "text": [
      "[1.0000001001327767, 0.7190875504116907, 0.7119189097369634, 0.7096008939200131, 0.7039315960573392, 0.6996315170176632, 0.6725764135810686, 0.6475616258345458, 0.6296107073788946, 0.580015005153564]\n",
      "['Clinical Psychology', 'Clinical, Counseling and Applied Psychology, Other', 'Applied Psychology', 'Counseling Psychology', 'Experimental Psychology', 'Forensic Psychology', 'Psychology, Other', 'Psychology, General', 'Community Psychology', 'Research and Experimental Psychology, Other']\n"
     ]
    }
   ],
   "source": [
    "# find top 10 for specific embedding\n",
    "# result = find_column_closeness(largest_programs)\n",
    "values_for_specific = list(result.values())[2]\n",
    "top_values = list(values_for_specific.keys())\n",
    "top_values.sort(reverse=True)\n",
    "print(top_values[:10])\n",
    "print([values_for_specific[value] for value in top_values[:10]])"
   ]
  }
 ],
 "metadata": {
  "kernelspec": {
   "display_name": "data_management",
   "language": "python",
   "name": "python3"
  },
  "language_info": {
   "codemirror_mode": {
    "name": "ipython",
    "version": 3
   },
   "file_extension": ".py",
   "mimetype": "text/x-python",
   "name": "python",
   "nbconvert_exporter": "python",
   "pygments_lexer": "ipython3",
   "version": "3.10.12"
  },
  "orig_nbformat": 4
 },
 "nbformat": 4,
 "nbformat_minor": 2
}
